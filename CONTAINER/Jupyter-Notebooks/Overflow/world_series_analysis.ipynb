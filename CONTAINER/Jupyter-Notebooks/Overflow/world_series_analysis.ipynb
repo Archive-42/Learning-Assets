{
 "metadata": {
  "name": ""
 },
 "nbformat": 3,
 "nbformat_minor": 0,
 "worksheets": [
  {
   "cells": [
    {
     "cell_type": "markdown",
     "metadata": {},
     "source": [
      "#Analyzing World Series Victories"
     ]
    },
    {
     "cell_type": "code",
     "collapsed": false,
     "input": [
      "import pandas as pd\n",
      "from scipy.special import binom\n",
      "red,lime,blue,green,purple = \"#CF5970\",\"#94B848\",\"#878CC0\",\"#5EBAA1\",\"#BD5DC7\""
     ],
     "language": "python",
     "metadata": {},
     "outputs": [],
     "prompt_number": 2
    },
    {
     "cell_type": "code",
     "collapsed": false,
     "input": [
      "ws = pd.read_csv('world_series_data.csv')\n",
      "ws.head(10)"
     ],
     "language": "python",
     "metadata": {},
     "outputs": [
      {
       "html": [
        "<div style=\"max-height:1000px;max-width:1500px;overflow:auto;\">\n",
        "<table border=\"1\" class=\"dataframe\">\n",
        "  <thead>\n",
        "    <tr style=\"text-align: right;\">\n",
        "      <th></th>\n",
        "      <th>World Series Year</th>\n",
        "      <th>National League Team</th>\n",
        "      <th>NL Wins</th>\n",
        "      <th>American League Team</th>\n",
        "      <th>AL Wins</th>\n",
        "      <th>Total Games</th>\n",
        "    </tr>\n",
        "  </thead>\n",
        "  <tbody>\n",
        "    <tr>\n",
        "      <th>0</th>\n",
        "      <td> 1903</td>\n",
        "      <td> Pittsburgh Pirates</td>\n",
        "      <td> 3</td>\n",
        "      <td>       Boston Americans</td>\n",
        "      <td> 5</td>\n",
        "      <td> 8</td>\n",
        "    </tr>\n",
        "    <tr>\n",
        "      <th>1</th>\n",
        "      <td> 1906</td>\n",
        "      <td>       Chicago Cubs</td>\n",
        "      <td> 2</td>\n",
        "      <td>      Chicago White Sox</td>\n",
        "      <td> 4</td>\n",
        "      <td> 6</td>\n",
        "    </tr>\n",
        "    <tr>\n",
        "      <th>2</th>\n",
        "      <td> 1908</td>\n",
        "      <td>       Chicago Cubs</td>\n",
        "      <td> 4</td>\n",
        "      <td>         Detroit Tigers</td>\n",
        "      <td> 1</td>\n",
        "      <td> 5</td>\n",
        "    </tr>\n",
        "    <tr>\n",
        "      <th>3</th>\n",
        "      <td> 1910</td>\n",
        "      <td>       Chicago Cubs</td>\n",
        "      <td> 1</td>\n",
        "      <td> Philadelphia Athletics</td>\n",
        "      <td> 4</td>\n",
        "      <td> 5</td>\n",
        "    </tr>\n",
        "    <tr>\n",
        "      <th>4</th>\n",
        "      <td> 1912</td>\n",
        "      <td>    New York Giants</td>\n",
        "      <td> 3</td>\n",
        "      <td>         Boston Red Sox</td>\n",
        "      <td> 4</td>\n",
        "      <td> 7</td>\n",
        "    </tr>\n",
        "    <tr>\n",
        "      <th>5</th>\n",
        "      <td> 1914</td>\n",
        "      <td>      Boston Braves</td>\n",
        "      <td> 4</td>\n",
        "      <td> Philadelphia Athletics</td>\n",
        "      <td> 0</td>\n",
        "      <td> 4</td>\n",
        "    </tr>\n",
        "    <tr>\n",
        "      <th>6</th>\n",
        "      <td> 1916</td>\n",
        "      <td>    Brooklyn Robins</td>\n",
        "      <td> 1</td>\n",
        "      <td>         Boston Red Sox</td>\n",
        "      <td> 4</td>\n",
        "      <td> 5</td>\n",
        "    </tr>\n",
        "    <tr>\n",
        "      <th>7</th>\n",
        "      <td> 1918</td>\n",
        "      <td>       Chicago Cubs</td>\n",
        "      <td> 2</td>\n",
        "      <td>         Boston Red Sox</td>\n",
        "      <td> 4</td>\n",
        "      <td> 6</td>\n",
        "    </tr>\n",
        "    <tr>\n",
        "      <th>8</th>\n",
        "      <td> 1920</td>\n",
        "      <td>    Brooklyn Robins</td>\n",
        "      <td> 2</td>\n",
        "      <td>      Cleveland Indians</td>\n",
        "      <td> 5</td>\n",
        "      <td> 7</td>\n",
        "    </tr>\n",
        "    <tr>\n",
        "      <th>9</th>\n",
        "      <td> 1921</td>\n",
        "      <td>    New York Giants</td>\n",
        "      <td> 5</td>\n",
        "      <td>       New York Yankees</td>\n",
        "      <td> 3</td>\n",
        "      <td> 8</td>\n",
        "    </tr>\n",
        "  </tbody>\n",
        "</table>\n",
        "</div>"
       ],
       "metadata": {},
       "output_type": "pyout",
       "prompt_number": 3,
       "text": [
        "   World Series Year National League Team  NL Wins    American League Team  \\\n",
        "0               1903   Pittsburgh Pirates        3        Boston Americans   \n",
        "1               1906         Chicago Cubs        2       Chicago White Sox   \n",
        "2               1908         Chicago Cubs        4          Detroit Tigers   \n",
        "3               1910         Chicago Cubs        1  Philadelphia Athletics   \n",
        "4               1912      New York Giants        3          Boston Red Sox   \n",
        "5               1914        Boston Braves        4  Philadelphia Athletics   \n",
        "6               1916      Brooklyn Robins        1          Boston Red Sox   \n",
        "7               1918         Chicago Cubs        2          Boston Red Sox   \n",
        "8               1920      Brooklyn Robins        2       Cleveland Indians   \n",
        "9               1921      New York Giants        5        New York Yankees   \n",
        "\n",
        "   AL Wins  Total Games  \n",
        "0        5            8  \n",
        "1        4            6  \n",
        "2        1            5  \n",
        "3        4            5  \n",
        "4        4            7  \n",
        "5        0            4  \n",
        "6        4            5  \n",
        "7        4            6  \n",
        "8        5            7  \n",
        "9        3            8  "
       ]
      }
     ],
     "prompt_number": 3
    },
    {
     "cell_type": "markdown",
     "metadata": {},
     "source": [
      "## Distribution of wins by team: American League"
     ]
    },
    {
     "cell_type": "code",
     "collapsed": false,
     "input": [
      "figure(figsize=(10,5))\n",
      "h = ws[\"American League Team\"].value_counts().plot(kind=\"bar\", color=red)\n",
      "h.set_ylabel('World Series Appearances')\n",
      "h.set_title('American League')"
     ],
     "language": "python",
     "metadata": {},
     "outputs": [
      {
       "metadata": {},
       "output_type": "pyout",
       "prompt_number": 3,
       "text": [
        "<matplotlib.text.Text at 0x11056b950>"
       ]
      },
      {
       "metadata": {},
       "output_type": "display_data",
       "png": "[encoded data removed]",
       "text": [
        "<matplotlib.figure.Figure at 0x1100ad150>"
       ]
      }
     ],
     "prompt_number": 3
    },
    {
     "cell_type": "markdown",
     "metadata": {},
     "source": [
      "## Distribution of wins by team: National League"
     ]
    },
    {
     "cell_type": "code",
     "collapsed": false,
     "input": [
      "figure(figsize=(10,5))\n",
      "h = ws[\"National League Team\"].value_counts().plot(kind=\"bar\", color=blue)\n",
      "h.set_ylabel('World Series Appearances')\n",
      "h.set_title('National League')"
     ],
     "language": "python",
     "metadata": {},
     "outputs": [
      {
       "metadata": {},
       "output_type": "pyout",
       "prompt_number": 4,
       "text": [
        "<matplotlib.text.Text at 0x1107e5e90>"
       ]
      },
      {
       "metadata": {},
       "output_type": "display_data",
       "png": "[encoded data removed]",
       "text": [
        "<matplotlib.figure.Figure at 0x110568c10>"
       ]
      }
     ],
     "prompt_number": 4
    },
    {
     "cell_type": "markdown",
     "metadata": {},
     "source": [
      "## Are teams from one league better than the other?"
     ]
    },
    {
     "cell_type": "code",
     "collapsed": false,
     "input": [
      "total_number_games = ws[\"Total Games\"].sum()\n",
      "al_wins = ws[\"AL Wins\"].sum()\n",
      "nl_wins = ws[\"NL Wins\"].sum()\n",
      "\n",
      "print 'AL Win Probability: ',100.0*al_wins/total_number_games\n",
      "print 'NL Win Probability: ',100.0*nl_wins/total_number_games"
     ],
     "language": "python",
     "metadata": {},
     "outputs": [
      {
       "output_type": "stream",
       "stream": "stdout",
       "text": [
        "AL Win Probability:  54.7495682211\n",
        "NL Win Probability:  45.2504317789\n"
       ]
      }
     ],
     "prompt_number": 5
    },
    {
     "cell_type": "markdown",
     "metadata": {},
     "source": [
      "Remember, probability is the likliehood **on average** of a given outcome occuring."
     ]
    },
    {
     "cell_type": "markdown",
     "metadata": {},
     "source": [
      "### It seems that the American League is slightly better.  Any ideas why?"
     ]
    },
    {
     "cell_type": "markdown",
     "metadata": {},
     "source": [
      "## What is the probability of each World Series outcome?"
     ]
    },
    {
     "cell_type": "code",
     "collapsed": false,
     "input": [
      "figure(figsize=(10,5))\n",
      "h = ws['Total Games'].hist(range=[4,7],bins=[4,5,6,7,8],align='left',rwidth=0.9, normed=True, color=green)\n",
      "xticks( arange(4,8), ('4-0', '4-1', '4-2', '4-3') )\n",
      "# add a title to the current figure, our histogram\n",
      "h.set_title(\"Outcome of World Series\")\n",
      "h.set_xlabel(\"Game Score\")\n",
      "h.set_ylabel(\"Probability\")\n",
      "\n",
      "actual,binEdges=histogram(ws['Total Games'],bins=4, normed=True)\n",
      "actual_prob = pd.Series(actual, index=['4-0','4-1','4-2','4-3'])"
     ],
     "language": "python",
     "metadata": {},
     "outputs": [
      {
       "metadata": {},
       "output_type": "display_data",
       "png": "[encoded data removed]",
       "text": [
        "<matplotlib.figure.Figure at 0x108b6db50>"
       ]
      }
     ],
     "prompt_number": 4
    },
    {
     "cell_type": "markdown",
     "metadata": {
      "slideshow": {
       "slide_type": "-"
      }
     },
     "source": [
      "## Questions\n",
      " * Can we undertsand this distribution?\n",
      " * Why do most series go to the full 7 games?\n",
      " * Why is 4-0 the most unlikely outcome?"
     ]
    },
    {
     "cell_type": "markdown",
     "metadata": {},
     "source": [
      "## Can we simplify this problem and analyze for a 'model' system\n",
      "\n",
      "### Activity: Rock Papers Scissors / Odds-n-Evens\n",
      "\n",
      " 1. Get into groups of 4\n",
      " 2. Eveyone choose 1 out of 3 possible partners\n",
      " 3. Decide who is American League and who is National League\n",
      " 3. Play 5 **best 2 out of 3** games of either RPS or O/E and record the **length** of each series, there should be 30 total best 2/3 matches played.\n",
      " 4. There are only two possible outcomes for each match, either it ends 2-0 or 2-1\n",
      " 5. Determine the probability of each of these possible outcomes."
     ]
    },
    {
     "cell_type": "markdown",
     "metadata": {},
     "source": [
      "###Question: If we assume that nobody is cheating, what is **total number** of outcomes in each case?\n",
      "\n",
      "<br/> <br/><br/>\n",
      "\n",
      "Answer: 4 if the game goes to 2-0 and 8 if the game goes to 2-1\n",
      "\n",
      "<br/> <br/><br/>\n",
      "\n",
      "###Question: How can we compute the probability and see if it agrees with our experiment?\n",
      "\n",
      "<br/> <br/><br/>\n",
      "\n",
      "Answer: First enumerate the number of outcomes in each case:\n",
      " * 2-0: AA, NN\n",
      " * 2-1: ANA, NAA, NAN, ANN -- One party needs to win **at most** 1 out of the first 2 games\n",
      " \n",
      "The probability is the number of ways an outcome can occur, divided by the total number of possible scores.\n",
      "\n",
      "$$ P(2-0) = \\frac{2}{2^2} = \\frac{1}{2}$$\n",
      "$$ P(2-1) = \\frac{4}{2^3} = \\frac{1}{2}$$\n"
     ]
    },
    {
     "cell_type": "markdown",
     "metadata": {},
     "source": [
      "## Let's return to the World Series case and create the list of all possible outcomes"
     ]
    },
    {
     "cell_type": "code",
     "collapsed": false,
     "input": [
      "import itertools as it\n",
      "outcome = {}\n",
      "prob = {}\n",
      "combos = {}"
     ],
     "language": "python",
     "metadata": {},
     "outputs": [],
     "prompt_number": 5
    },
    {
     "cell_type": "markdown",
     "metadata": {},
     "source": [
      "### 4-0 Sweep"
     ]
    },
    {
     "cell_type": "code",
     "collapsed": false,
     "input": [
      "outcome['4-0'] = [\"AAAA\",\"NNNN\"]"
     ],
     "language": "python",
     "metadata": {},
     "outputs": [],
     "prompt_number": 6
    },
    {
     "cell_type": "markdown",
     "metadata": {},
     "source": [
      "### 4-1"
     ]
    },
    {
     "cell_type": "code",
     "collapsed": false,
     "input": [
      "# AL wins 4-1\n",
      "score = set(it.permutations(\"AAAN\"))\n",
      "outcome['4-1'] = [ \"\".join(c) + \"A\" for c in score]\n",
      "\n",
      "# NL wins 4-1\n",
      "score = set(it.permutations(\"NNNA\"))\n",
      "outcome['4-1'] += [ \"\".join(c) + \"N\" for c in score]"
     ],
     "language": "python",
     "metadata": {},
     "outputs": [],
     "prompt_number": 7
    },
    {
     "cell_type": "markdown",
     "metadata": {},
     "source": [
      "### 4-2"
     ]
    },
    {
     "cell_type": "code",
     "collapsed": false,
     "input": [
      "# AL wins 4-2\n",
      "score = set(it.permutations(\"AAANN\"))\n",
      "outcome['4-2'] = [ \"\".join(c) + \"A\" for c in score]\n",
      "\n",
      "# NL wins 4-2\n",
      "score = set(it.permutations(\"NNNAA\"))\n",
      "outcome['4-2'] += [ \"\".join(c) + \"N\" for c in score]"
     ],
     "language": "python",
     "metadata": {},
     "outputs": [],
     "prompt_number": 8
    },
    {
     "cell_type": "markdown",
     "metadata": {},
     "source": [
      "### 4-3"
     ]
    },
    {
     "cell_type": "code",
     "collapsed": false,
     "input": [
      "# AL wins 4-3\n",
      "score = set(it.permutations(\"AAANNN\"))\n",
      "outcome['4-3'] = [ \"\".join(c) + \"A\" for c in score]\n",
      "\n",
      "# NL wins 4-3\n",
      "score = set(it.permutations(\"NNNAAA\"))\n",
      "outcome['4-3'] += [ \"\".join(c) + \"N\" for c in score]"
     ],
     "language": "python",
     "metadata": {},
     "outputs": [],
     "prompt_number": 9
    },
    {
     "cell_type": "markdown",
     "metadata": {},
     "source": [
      "## Now let's determine the probabilities\n",
      "\n",
      " * We have to remember that the probability to win a single game is equal to 1/2\n",
      " * Therefore, the probability of given outcome is equal to the number of ways for that score to happen, divided by: $2^{\\text{number of games}}$"
     ]
    },
    {
     "cell_type": "markdown",
     "metadata": {},
     "source": [
      "###List all the posibile combinations"
     ]
    },
    {
     "cell_type": "code",
     "collapsed": false,
     "input": [
      "for score,out in outcome.iteritems():\n",
      "    combos[score] = pd.DataFrame({score:out})"
     ],
     "language": "python",
     "metadata": {},
     "outputs": [],
     "prompt_number": 10
    },
    {
     "cell_type": "code",
     "collapsed": false,
     "input": [
      "combos['4-0']"
     ],
     "language": "python",
     "metadata": {},
     "outputs": [
      {
       "html": [
        "<div style=\"max-height:1000px;max-width:1500px;overflow:auto;\">\n",
        "<table border=\"1\" class=\"dataframe\">\n",
        "  <thead>\n",
        "    <tr style=\"text-align: right;\">\n",
        "      <th></th>\n",
        "      <th>4-0</th>\n",
        "    </tr>\n",
        "  </thead>\n",
        "  <tbody>\n",
        "    <tr>\n",
        "      <th>0</th>\n",
        "      <td> AAAA</td>\n",
        "    </tr>\n",
        "    <tr>\n",
        "      <th>1</th>\n",
        "      <td> NNNN</td>\n",
        "    </tr>\n",
        "  </tbody>\n",
        "</table>\n",
        "</div>"
       ],
       "metadata": {},
       "output_type": "pyout",
       "prompt_number": 11,
       "text": [
        "    4-0\n",
        "0  AAAA\n",
        "1  NNNN"
       ]
      }
     ],
     "prompt_number": 11
    },
    {
     "cell_type": "code",
     "collapsed": false,
     "input": [
      "combos['4-1']"
     ],
     "language": "python",
     "metadata": {},
     "outputs": [
      {
       "html": [
        "<div style=\"max-height:1000px;max-width:1500px;overflow:auto;\">\n",
        "<table border=\"1\" class=\"dataframe\">\n",
        "  <thead>\n",
        "    <tr style=\"text-align: right;\">\n",
        "      <th></th>\n",
        "      <th>4-1</th>\n",
        "    </tr>\n",
        "  </thead>\n",
        "  <tbody>\n",
        "    <tr>\n",
        "      <th>0</th>\n",
        "      <td> AANAA</td>\n",
        "    </tr>\n",
        "    <tr>\n",
        "      <th>1</th>\n",
        "      <td> ANAAA</td>\n",
        "    </tr>\n",
        "    <tr>\n",
        "      <th>2</th>\n",
        "      <td> NAAAA</td>\n",
        "    </tr>\n",
        "    <tr>\n",
        "      <th>3</th>\n",
        "      <td> AAANA</td>\n",
        "    </tr>\n",
        "    <tr>\n",
        "      <th>4</th>\n",
        "      <td> NNNAN</td>\n",
        "    </tr>\n",
        "    <tr>\n",
        "      <th>5</th>\n",
        "      <td> ANNNN</td>\n",
        "    </tr>\n",
        "    <tr>\n",
        "      <th>6</th>\n",
        "      <td> NANNN</td>\n",
        "    </tr>\n",
        "    <tr>\n",
        "      <th>7</th>\n",
        "      <td> NNANN</td>\n",
        "    </tr>\n",
        "  </tbody>\n",
        "</table>\n",
        "</div>"
       ],
       "metadata": {},
       "output_type": "pyout",
       "prompt_number": 12,
       "text": [
        "     4-1\n",
        "0  AANAA\n",
        "1  ANAAA\n",
        "2  NAAAA\n",
        "3  AAANA\n",
        "4  NNNAN\n",
        "5  ANNNN\n",
        "6  NANNN\n",
        "7  NNANN"
       ]
      }
     ],
     "prompt_number": 12
    },
    {
     "cell_type": "code",
     "collapsed": false,
     "input": [
      "combos['4-2']"
     ],
     "language": "python",
     "metadata": {},
     "outputs": [
      {
       "html": [
        "<div style=\"max-height:1000px;max-width:1500px;overflow:auto;\">\n",
        "<table border=\"1\" class=\"dataframe\">\n",
        "  <thead>\n",
        "    <tr style=\"text-align: right;\">\n",
        "      <th></th>\n",
        "      <th>4-2</th>\n",
        "    </tr>\n",
        "  </thead>\n",
        "  <tbody>\n",
        "    <tr>\n",
        "      <th>0 </th>\n",
        "      <td> AANNAA</td>\n",
        "    </tr>\n",
        "    <tr>\n",
        "      <th>1 </th>\n",
        "      <td> NNAAAA</td>\n",
        "    </tr>\n",
        "    <tr>\n",
        "      <th>2 </th>\n",
        "      <td> AANANA</td>\n",
        "    </tr>\n",
        "    <tr>\n",
        "      <th>3 </th>\n",
        "      <td> AAANNA</td>\n",
        "    </tr>\n",
        "    <tr>\n",
        "      <th>4 </th>\n",
        "      <td> NANAAA</td>\n",
        "    </tr>\n",
        "    <tr>\n",
        "      <th>5 </th>\n",
        "      <td> ANANAA</td>\n",
        "    </tr>\n",
        "    <tr>\n",
        "      <th>6 </th>\n",
        "      <td> ANNAAA</td>\n",
        "    </tr>\n",
        "    <tr>\n",
        "      <th>7 </th>\n",
        "      <td> NAANAA</td>\n",
        "    </tr>\n",
        "    <tr>\n",
        "      <th>8 </th>\n",
        "      <td> ANAANA</td>\n",
        "    </tr>\n",
        "    <tr>\n",
        "      <th>9 </th>\n",
        "      <td> NAAANA</td>\n",
        "    </tr>\n",
        "    <tr>\n",
        "      <th>10</th>\n",
        "      <td> ANANNN</td>\n",
        "    </tr>\n",
        "    <tr>\n",
        "      <th>11</th>\n",
        "      <td> NNNAAN</td>\n",
        "    </tr>\n",
        "    <tr>\n",
        "      <th>12</th>\n",
        "      <td> NNANAN</td>\n",
        "    </tr>\n",
        "    <tr>\n",
        "      <th>13</th>\n",
        "      <td> NNAANN</td>\n",
        "    </tr>\n",
        "    <tr>\n",
        "      <th>14</th>\n",
        "      <td> AANNNN</td>\n",
        "    </tr>\n",
        "    <tr>\n",
        "      <th>15</th>\n",
        "      <td> NANNAN</td>\n",
        "    </tr>\n",
        "    <tr>\n",
        "      <th>16</th>\n",
        "      <td> ANNNAN</td>\n",
        "    </tr>\n",
        "    <tr>\n",
        "      <th>17</th>\n",
        "      <td> NAANNN</td>\n",
        "    </tr>\n",
        "    <tr>\n",
        "      <th>18</th>\n",
        "      <td> ANNANN</td>\n",
        "    </tr>\n",
        "    <tr>\n",
        "      <th>19</th>\n",
        "      <td> NANANN</td>\n",
        "    </tr>\n",
        "  </tbody>\n",
        "</table>\n",
        "</div>"
       ],
       "metadata": {},
       "output_type": "pyout",
       "prompt_number": 13,
       "text": [
        "       4-2\n",
        "0   AANNAA\n",
        "1   NNAAAA\n",
        "2   AANANA\n",
        "3   AAANNA\n",
        "4   NANAAA\n",
        "5   ANANAA\n",
        "6   ANNAAA\n",
        "7   NAANAA\n",
        "8   ANAANA\n",
        "9   NAAANA\n",
        "10  ANANNN\n",
        "11  NNNAAN\n",
        "12  NNANAN\n",
        "13  NNAANN\n",
        "14  AANNNN\n",
        "15  NANNAN\n",
        "16  ANNNAN\n",
        "17  NAANNN\n",
        "18  ANNANN\n",
        "19  NANANN"
       ]
      }
     ],
     "prompt_number": 13
    },
    {
     "cell_type": "code",
     "collapsed": false,
     "input": [
      "combos['4-3']"
     ],
     "language": "python",
     "metadata": {},
     "outputs": [
      {
       "html": [
        "<div style=\"max-height:1000px;max-width:1500px;overflow:auto;\">\n",
        "<table border=\"1\" class=\"dataframe\">\n",
        "  <thead>\n",
        "    <tr style=\"text-align: right;\">\n",
        "      <th></th>\n",
        "      <th>4-3</th>\n",
        "    </tr>\n",
        "  </thead>\n",
        "  <tbody>\n",
        "    <tr>\n",
        "      <th>0 </th>\n",
        "      <td> NNNAAAA</td>\n",
        "    </tr>\n",
        "    <tr>\n",
        "      <th>1 </th>\n",
        "      <td> NNAAANA</td>\n",
        "    </tr>\n",
        "    <tr>\n",
        "      <th>2 </th>\n",
        "      <td> NAANANA</td>\n",
        "    </tr>\n",
        "    <tr>\n",
        "      <th>3 </th>\n",
        "      <td> ANAANNA</td>\n",
        "    </tr>\n",
        "    <tr>\n",
        "      <th>4 </th>\n",
        "      <td> ANNAANA</td>\n",
        "    </tr>\n",
        "    <tr>\n",
        "      <th>5 </th>\n",
        "      <td> AANANNA</td>\n",
        "    </tr>\n",
        "    <tr>\n",
        "      <th>6 </th>\n",
        "      <td> ANNNAAA</td>\n",
        "    </tr>\n",
        "    <tr>\n",
        "      <th>7 </th>\n",
        "      <td> NANAANA</td>\n",
        "    </tr>\n",
        "    <tr>\n",
        "      <th>8 </th>\n",
        "      <td> NNAANAA</td>\n",
        "    </tr>\n",
        "    <tr>\n",
        "      <th>9 </th>\n",
        "      <td> NANNAAA</td>\n",
        "    </tr>\n",
        "    <tr>\n",
        "      <th>10</th>\n",
        "      <td> AANNNAA</td>\n",
        "    </tr>\n",
        "    <tr>\n",
        "      <th>11</th>\n",
        "      <td> ANANANA</td>\n",
        "    </tr>\n",
        "    <tr>\n",
        "      <th>12</th>\n",
        "      <td> NNANAAA</td>\n",
        "    </tr>\n",
        "    <tr>\n",
        "      <th>13</th>\n",
        "      <td> NANANAA</td>\n",
        "    </tr>\n",
        "    <tr>\n",
        "      <th>14</th>\n",
        "      <td> AANNANA</td>\n",
        "    </tr>\n",
        "    <tr>\n",
        "      <th>15</th>\n",
        "      <td> ANNANAA</td>\n",
        "    </tr>\n",
        "    <tr>\n",
        "      <th>16</th>\n",
        "      <td> ANANNAA</td>\n",
        "    </tr>\n",
        "    <tr>\n",
        "      <th>17</th>\n",
        "      <td> AAANNNA</td>\n",
        "    </tr>\n",
        "    <tr>\n",
        "      <th>18</th>\n",
        "      <td> NAAANNA</td>\n",
        "    </tr>\n",
        "    <tr>\n",
        "      <th>19</th>\n",
        "      <td> NAANNAA</td>\n",
        "    </tr>\n",
        "    <tr>\n",
        "      <th>20</th>\n",
        "      <td> NNNAAAN</td>\n",
        "    </tr>\n",
        "    <tr>\n",
        "      <th>21</th>\n",
        "      <td> NANNAAN</td>\n",
        "    </tr>\n",
        "    <tr>\n",
        "      <th>22</th>\n",
        "      <td> NNAANAN</td>\n",
        "    </tr>\n",
        "    <tr>\n",
        "      <th>23</th>\n",
        "      <td> ANANNAN</td>\n",
        "    </tr>\n",
        "    <tr>\n",
        "      <th>24</th>\n",
        "      <td> ANNAANN</td>\n",
        "    </tr>\n",
        "    <tr>\n",
        "      <th>25</th>\n",
        "      <td> AANNNAN</td>\n",
        "    </tr>\n",
        "    <tr>\n",
        "      <th>26</th>\n",
        "      <td> AAANNNN</td>\n",
        "    </tr>\n",
        "    <tr>\n",
        "      <th>27</th>\n",
        "      <td> NAANNAN</td>\n",
        "    </tr>\n",
        "    <tr>\n",
        "      <th>28</th>\n",
        "      <td> NANAANN</td>\n",
        "    </tr>\n",
        "    <tr>\n",
        "      <th>29</th>\n",
        "      <td> NNAAANN</td>\n",
        "    </tr>\n",
        "    <tr>\n",
        "      <th>30</th>\n",
        "      <td> ANNANAN</td>\n",
        "    </tr>\n",
        "    <tr>\n",
        "      <th>31</th>\n",
        "      <td> ANANANN</td>\n",
        "    </tr>\n",
        "    <tr>\n",
        "      <th>32</th>\n",
        "      <td> NNANAAN</td>\n",
        "    </tr>\n",
        "    <tr>\n",
        "      <th>33</th>\n",
        "      <td> AANNANN</td>\n",
        "    </tr>\n",
        "    <tr>\n",
        "      <th>34</th>\n",
        "      <td> NAANANN</td>\n",
        "    </tr>\n",
        "    <tr>\n",
        "      <th>35</th>\n",
        "      <td> ANAANNN</td>\n",
        "    </tr>\n",
        "    <tr>\n",
        "      <th>36</th>\n",
        "      <td> ANNNAAN</td>\n",
        "    </tr>\n",
        "    <tr>\n",
        "      <th>37</th>\n",
        "      <td> AANANNN</td>\n",
        "    </tr>\n",
        "    <tr>\n",
        "      <th>38</th>\n",
        "      <td> NAAANNN</td>\n",
        "    </tr>\n",
        "    <tr>\n",
        "      <th>39</th>\n",
        "      <td> NANANAN</td>\n",
        "    </tr>\n",
        "  </tbody>\n",
        "</table>\n",
        "</div>"
       ],
       "metadata": {},
       "output_type": "pyout",
       "prompt_number": 14,
       "text": [
        "        4-3\n",
        "0   NNNAAAA\n",
        "1   NNAAANA\n",
        "2   NAANANA\n",
        "3   ANAANNA\n",
        "4   ANNAANA\n",
        "5   AANANNA\n",
        "6   ANNNAAA\n",
        "7   NANAANA\n",
        "8   NNAANAA\n",
        "9   NANNAAA\n",
        "10  AANNNAA\n",
        "11  ANANANA\n",
        "12  NNANAAA\n",
        "13  NANANAA\n",
        "14  AANNANA\n",
        "15  ANNANAA\n",
        "16  ANANNAA\n",
        "17  AAANNNA\n",
        "18  NAAANNA\n",
        "19  NAANNAA\n",
        "20  NNNAAAN\n",
        "21  NANNAAN\n",
        "22  NNAANAN\n",
        "23  ANANNAN\n",
        "24  ANNAANN\n",
        "25  AANNNAN\n",
        "26  AAANNNN\n",
        "27  NAANNAN\n",
        "28  NANAANN\n",
        "29  NNAAANN\n",
        "30  ANNANAN\n",
        "31  ANANANN\n",
        "32  NNANAAN\n",
        "33  AANNANN\n",
        "34  NAANANN\n",
        "35  ANAANNN\n",
        "36  ANNNAAN\n",
        "37  AANANNN\n",
        "38  NAAANNN\n",
        "39  NANANAN"
       ]
      }
     ],
     "prompt_number": 14
    },
    {
     "cell_type": "markdown",
     "metadata": {},
     "source": [
      "### To determine the probability:\n",
      "\n",
      "$$ \\text{Prob(outcome)} = \\frac{\\text{number outcomes}}{2^{\\text{number games}}} $$"
     ]
    },
    {
     "cell_type": "code",
     "collapsed": false,
     "input": [
      "for score,out in outcome.iteritems():\n",
      "    prob[score] = 1.0*len(out)/(2**(len(out[0])))\n",
      "exact_prob = pd.Series(prob)"
     ],
     "language": "python",
     "metadata": {},
     "outputs": [],
     "prompt_number": 15
    },
    {
     "cell_type": "markdown",
     "metadata": {},
     "source": [
      "### Let's compare the exact probability we have measured, with the observed"
     ]
    },
    {
     "cell_type": "code",
     "collapsed": false,
     "input": [
      "exact_prob"
     ],
     "language": "python",
     "metadata": {},
     "outputs": [
      {
       "metadata": {},
       "output_type": "pyout",
       "prompt_number": 16,
       "text": [
        "4-0    0.1250\n",
        "4-1    0.2500\n",
        "4-2    0.3125\n",
        "4-3    0.3125\n",
        "dtype: float64"
       ]
      }
     ],
     "prompt_number": 16
    },
    {
     "cell_type": "code",
     "collapsed": false,
     "input": [
      "actual_prob"
     ],
     "language": "python",
     "metadata": {},
     "outputs": [
      {
       "metadata": {},
       "output_type": "pyout",
       "prompt_number": 17,
       "text": [
        "4-0    0.20\n",
        "4-1    0.21\n",
        "4-2    0.21\n",
        "4-3    0.38\n",
        "dtype: float64"
       ]
      }
     ],
     "prompt_number": 17
    },
    {
     "cell_type": "markdown",
     "metadata": {},
     "source": [
      "### These look pretty close, let's compare on a plot"
     ]
    },
    {
     "cell_type": "code",
     "collapsed": false,
     "input": [
      "figure(figsize=(10,5))\n",
      "actual_prob.plot(kind='bar', alpha=1.0, color=green, label='measured')\n",
      "exact_prob.plot(kind='bar', alpha=0.5, color=purple, label='exact')\n",
      "\n",
      "title(\"Outcome of World Series\")\n",
      "xlabel(\"Game Score\")\n",
      "ylabel(\"Probability\")\n",
      "legend(loc='upper left', fontsize=15)\n",
      "tight_layout()\n",
      "savefig('/Users/agdelma/Desktop/world_series_outcome.pdf')"
     ],
     "language": "python",
     "metadata": {},
     "outputs": [
      {
       "metadata": {},
       "output_type": "display_data",
       "png": "[encoded data removed]",
       "text": [
        "<matplotlib.figure.Figure at 0x10949aa50>"
       ]
      }
     ],
     "prompt_number": 24
    },
    {
     "cell_type": "markdown",
     "metadata": {},
     "source": [
      "# Success!"
     ]
    },
    {
     "cell_type": "markdown",
     "metadata": {},
     "source": [
      "### It turns out, this is an example of the binomial probability distribution for the special case where each of the two outcomes is equally likely.\n",
      "\n",
      "The binomial distribution is the discrete probability distribution of the number of successes in a sequence of n independent yes/no experiments, each of which yields success with probability p.\n",
      "\n",
      "See more: http://en.wikipedia.org/wiki/Binomial_distribution"
     ]
    },
    {
     "cell_type": "markdown",
     "metadata": {},
     "source": [
      "$$P_b(n,k) = \\binom{n}{k} \\frac{1}{2^n}$$"
     ]
    },
    {
     "cell_type": "markdown",
     "metadata": {},
     "source": [
      "Let's try to reproduce our previous calculation.  In our case, we will use the binomial probability for the first $n-1$ games of a $n$ game series, then multiply by $1/2$ the probability of our team winning the final game and finally, multiply the whole thing by $2$ as we don't care whether the AL or NL wins.  Thus, our probability is:\n",
      "\n",
      "$$P(a,0) = P_b(a,0) \\times 2 $$\n",
      "$$P(a,b>0) = P_b(a+b-1,3) \\times \\frac{1}{2} \\times 2 $$"
     ]
    },
    {
     "cell_type": "code",
     "collapsed": false,
     "input": [
      "def P(a,b):\n",
      "    ''' The probability for a series outcome a-b. '''\n",
      "    if b == 0:\n",
      "        return (binom(a,b)/2**a) * 2\n",
      "    else:\n",
      "        return binom(a+b-1,3)/2**(a+b-1)"
     ],
     "language": "python",
     "metadata": {},
     "outputs": []
    },
    {
     "cell_type": "code",
     "collapsed": false,
     "input": [
      "exact_prob"
     ],
     "language": "python",
     "metadata": {},
     "outputs": []
    },
    {
     "cell_type": "code",
     "collapsed": false,
     "input": [
      "for b in range(4):\n",
      "    print 'P(4-%d) = '%b, P(4,b)"
     ],
     "language": "python",
     "metadata": {},
     "outputs": []
    },
    {
     "cell_type": "code",
     "collapsed": false,
     "input": [],
     "language": "python",
     "metadata": {},
     "outputs": []
    }
   ],
   "metadata": {}
  }
 ]
}