{
  "cells": [
    {
      "cell_type": "markdown",
      "source": [
        "Introduction\n",
        "--------------\n",
        "\n",
        "* Aliasing\n",
        "* Decimation\n",
        "* Interpolation "
      ],
      "metadata": {}
    },
    {
      "cell_type": "code",
      "source": [
        "%qtconsole"
      ],
      "outputs": [],
      "execution_count": 1,
      "metadata": {
        "execution": {
          "shell.execute_reply": "2021-02-12T21:53:09.843Z",
          "iopub.status.busy": "2021-02-12T21:53:10.453Z",
          "iopub.execute_input": "2021-02-12T21:53:10.511Z",
          "iopub.status.idle": "2021-02-12T21:53:10.567Z"
        },
        "jupyter": {
          "outputs_hidden": false,
          "source_hidden": false
        }
      }
    },
    {
      "cell_type": "markdown",
      "source": [
        "The following plot shows that two different signal frequencies (i.e.,\n",
        "$f=0$, $f=f_s$) can generate the *exact* same samples."
      ],
      "metadata": {}
    },
    {
      "cell_type": "code",
      "source": [
        "n = arange(5)\n",
        "fs = 0.25\n",
        "t = linspace(0,n.max()/fs,200)\n",
        "\n",
        "fig,ax = subplots()\n",
        "\n",
        "ax.stem(n/fs,cos(2*pi*n),basefmt='',label='samples')\n",
        "ax.plot(t,cos(2*pi*fs*t),'--g',label='f=fs')\n",
        "ax.plot(t,t*0+1,'r--',label='f=0')\n",
        "ax.set_ylim(top=1.5,bottom=-2.5)\n",
        "ax.set_xlim(left=-.5,right=t.max()*1.1)\n",
        "ax.grid()\n",
        "ax.set_xlabel('time',fontsize=18)\n",
        "ax.set_ylabel('Amplitude',fontsize=18)\n",
        "ax.set_title('Two signals have identical samples',fontsize=18)\n",
        "ax.legend(loc=0)"
      ],
      "outputs": [
        {
          "output_type": "error",
          "ename": "NameError",
          "evalue": "name 'arange' is not defined",
          "traceback": [
            "\u001b[1;31m\u001b[0m",
            "\u001b[1;31mNameError\u001b[0mTraceback (most recent call last)",
            "\u001b[1;32m<ipython-input-2-02a1dcee405f>\u001b[0m in \u001b[0;36m<module>\u001b[1;34m()\u001b[0m\n\u001b[1;32m----> 1\u001b[1;33m \u001b[0mn\u001b[0m \u001b[1;33m=\u001b[0m \u001b[0marange\u001b[0m\u001b[1;33m(\u001b[0m\u001b[1;36m5\u001b[0m\u001b[1;33m)\u001b[0m\u001b[1;33m\u001b[0m\u001b[0m\n\u001b[0m\u001b[0;32m      2\u001b[0m \u001b[0mfs\u001b[0m \u001b[1;33m=\u001b[0m \u001b[1;36m0.25\u001b[0m\u001b[1;33m\u001b[0m\u001b[0m\n\u001b[0;32m      3\u001b[0m \u001b[0mt\u001b[0m \u001b[1;33m=\u001b[0m \u001b[0mlinspace\u001b[0m\u001b[1;33m(\u001b[0m\u001b[1;36m0\u001b[0m\u001b[1;33m,\u001b[0m\u001b[0mn\u001b[0m\u001b[1;33m.\u001b[0m\u001b[0mmax\u001b[0m\u001b[1;33m(\u001b[0m\u001b[1;33m)\u001b[0m\u001b[1;33m/\u001b[0m\u001b[0mfs\u001b[0m\u001b[1;33m,\u001b[0m\u001b[1;36m200\u001b[0m\u001b[1;33m)\u001b[0m\u001b[1;33m\u001b[0m\u001b[0m\n\u001b[0;32m      4\u001b[0m \u001b[1;33m\u001b[0m\u001b[0m\n\u001b[0;32m      5\u001b[0m \u001b[0mfig\u001b[0m\u001b[1;33m,\u001b[0m\u001b[0max\u001b[0m \u001b[1;33m=\u001b[0m \u001b[0msubplots\u001b[0m\u001b[1;33m(\u001b[0m\u001b[1;33m)\u001b[0m\u001b[1;33m\u001b[0m\u001b[0m\n",
            "\u001b[1;31mNameError\u001b[0m: name 'arange' is not defined"
          ]
        }
      ],
      "execution_count": 2,
      "metadata": {
        "execution": {
          "iopub.status.busy": "2021-02-12T21:53:10.660Z",
          "iopub.execute_input": "2021-02-12T21:53:10.709Z",
          "shell.execute_reply": "2021-02-12T21:53:09.910Z"
        },
        "jupyter": {
          "outputs_hidden": false,
          "source_hidden": false
        }
      }
    },
    {
      "cell_type": "markdown",
      "source": [
        "This is the *aliasing* problem and it is a fact of  sampling. In fact, its implications are even more problematic."
      ],
      "metadata": {}
    },
    {
      "cell_type": "code",
      "source": [
        "from __future__ import  division\n",
        "from matplotlib.patches import FancyArrow\n",
        "import mpl_toolkits.mplot3d.art3d as art3d\n",
        "from mpl_toolkits.mplot3d.art3d import Poly3DCollection\n",
        "import matplotlib.gridspec as gridspec\n",
        "\n",
        "def dftmatrix(Nfft=32,N=None):\n",
        "    'construct DFT matrix'\n",
        "    k= np.arange(Nfft)\n",
        "    if N is None: N = Nfft\n",
        "    n = arange(N)\n",
        "    U = matrix(exp(1j* 2*pi/Nfft *k*n[:,None])) # use numpy broadcasting to create matrix\n",
        "    return U/sqrt(Nfft)\n",
        "\n",
        "def facet_filled(x,alpha=0.5,color='b'):\n",
        "    'construct 3D facet from adjacent points filled to zero'\n",
        "    a,b=x\n",
        "    a0= a*array([1,1,0])\n",
        "    b0= b*array([1,1,0])\n",
        "    ve = vstack([a,a0,b0,b])      # create closed polygon facet\n",
        "    poly = Poly3DCollection([ve]) # create facet\n",
        "    poly.set_alpha(alpha)\n",
        "    poly.set_color(color)\n",
        "    return poly\n",
        "\n",
        "def drawDFTView(X,ax=None,fig=None):\n",
        "    'above code as a function. Draws 3D diagram given DFT matrix'\n",
        "    a=2*pi/len(X)*arange(len(X))\n",
        "    d=vstack([cos(a),sin(a),array(abs(X)).flatten()]).T\n",
        "    if ax is None and fig is None:\n",
        "        fig = plt.figure()\n",
        "        fig.set_size_inches(6,6)\n",
        "        \n",
        "    if ax is None: # add ax to existing figure\n",
        "        ax = fig.add_subplot(1, 1, 1, projection='3d')\n",
        "        \n",
        "    ax.axis([-1,1,-1,1])\n",
        "    ax.set_zlim([0,d[:,2].max()])\n",
        "    ax.set_aspect(1)\n",
        "    ax.view_init(azim=-30)\n",
        "    a=FancyArrow(0,0,1,0,width=0.02,length_includes_head=True)\n",
        "    ax.add_patch(a)\n",
        "    b=FancyArrow(0,0,0,1,width=0.02,length_includes_head=True)\n",
        "    ax.add_patch(b)\n",
        "    art3d.patch_2d_to_3d(a)\n",
        "    art3d.patch_2d_to_3d(b)\n",
        "    ax.axis('off')\n",
        "\n",
        "    sl=[slice(i,i+2) for i in range(d.shape[0]-2)] # collect neighboring points\n",
        "    for s in sl:\n",
        "      poly=facet_filled(d[s,:])\n",
        "      ax.add_collection3d(poly)\n",
        "     \n",
        "    # edge polygons    \n",
        "    ax.add_collection3d(facet_filled(d[[-1,0],:]))\n",
        "    ax.add_collection3d(facet_filled(d[[-2,-1],:]))"
      ],
      "outputs": [],
      "execution_count": 3,
      "metadata": {
        "jupyter": {
          "outputs_hidden": false,
          "source_hidden": false
        },
        "execution": {
          "iopub.status.busy": "2021-02-12T21:47:29.357Z",
          "iopub.execute_input": "2021-02-12T21:47:29.545Z",
          "shell.execute_reply": "2021-02-12T21:53:09.987Z"
        }
      }
    },
    {
      "cell_type": "code",
      "source": [
        "from scipy.signal import chirp\n",
        "\n",
        "f0 = 0 # start frequency\n",
        "t1 = 2 # end-time\n",
        "f1 = 10 # frequency at end-time\n",
        "fs = 40 # sample rate\n",
        "\n",
        "t = arange(0,t1,1/fs)\n",
        "x = chirp(t,f0,t1,f1)\n",
        "\n",
        "#drawDFTView(fft.fft(x,512),ax=None,fig=None)\n"
      ],
      "outputs": [],
      "execution_count": 4,
      "metadata": {
        "jupyter": {
          "outputs_hidden": false,
          "source_hidden": false
        },
        "execution": {
          "shell.execute_reply": "2021-02-12T21:53:10.064Z"
        }
      }
    },
    {
      "cell_type": "code",
      "source": [
        "def dftmatrix(Nfft=32,N=None):\n",
        "    'construct DFT matrix'\n",
        "    k= np.arange(Nfft)\n",
        "    if N is None: N = Nfft\n",
        "    n = arange(N)\n",
        "    U = matrix(exp(1j* 2*pi/Nfft *k*n[:,None])) # use numpy broadcasting to create matrix\n",
        "    return U/sqrt(Nfft)\n",
        "\n",
        "plot(U[:,1].real)\n",
        "\n",
        "U = dftmatrix(128*2,32)\n",
        "drawDFTView(U.H*(U[:,0]+U[:,100]).real)"
      ],
      "outputs": [],
      "execution_count": 5,
      "metadata": {
        "jupyter": {
          "outputs_hidden": false,
          "source_hidden": false
        },
        "execution": {
          "shell.execute_reply": "2021-02-12T21:53:10.155Z"
        }
      }
    },
    {
      "cell_type": "markdown",
      "source": [
        "$$ \\Omega_k = \\frac{2\\pi}{N} k $$\n",
        "\n",
        "and for sampled frequency,\n",
        "\n",
        "$$ f_k = \\frac{f_s}{N} k $$\n",
        "\n",
        "\n",
        "$$ \\delta f = f_s/N$$\n",
        "\n",
        "$$ \\Omega_{k+N} = \\Omega_k$$"
      ],
      "metadata": {}
    },
    {
      "cell_type": "code",
      "source": [
        "Nf = 64\n",
        "fs = 64 # delta_f = 1 Hz\n",
        "f = 10\n",
        "t = arange(0,1,1/fs)\n",
        "deltaf = 1/2.\n",
        "\n",
        "fig,ax = subplots(2,1,sharex=True,sharey=True)\n",
        "\n",
        "x=cos(2*pi*f*t) + cos(2*pi*(f+2)*t)\n",
        "X = fft.fft(x,Nf)\n",
        "ax[0].plot(linspace(0,fs,len(X)),abs(X),'-o')\n",
        "ax[0].set_title(r'$\\delta f = 2$',fontsize=18)\n",
        "ax[0].set_ylabel(r'$|X(k)|$',fontsize=18)\n",
        "ax[0].grid()\n",
        "\n",
        "x=cos(2*pi*f*t) + cos(2*pi*(f+deltaf)*t)\n",
        "X = fft.fft(x,Nf)\n",
        "ax[1].plot(linspace(0,fs,len(X)),abs(X),'-o')\n",
        "ax[1].set_title(r'$\\delta f = 1/2$',fontsize=18)\n",
        "ax[1].set_ylabel(r'$|X(k)|$',fontsize=18)\n",
        "ax[1].set_xlabel('Frequency (Hz)',fontsize=18)\n",
        "ax[1].set_xlim(xmax = fs/2)\n",
        "ax[1].grid()"
      ],
      "outputs": [],
      "execution_count": 6,
      "metadata": {
        "jupyter": {
          "outputs_hidden": false,
          "source_hidden": false
        },
        "execution": {
          "shell.execute_reply": "2021-02-12T21:53:10.220Z"
        }
      }
    },
    {
      "cell_type": "code",
      "source": [
        "Nf = 64*2\n",
        "fig,ax = subplots(2,1,sharex=True,sharey=True)\n",
        "fig.set_size_inches((6,6))\n",
        "\n",
        "X = fft.fft(x,Nf)\n",
        "ax[0].plot(linspace(0,fs,len(X)),abs(X),'-o',ms=3.)\n",
        "ax[0].set_title(r'$N=%d$'%Nf,fontsize=18)\n",
        "ax[0].set_ylabel(r'$|X(k)|$',fontsize=18)\n",
        "ax[0].grid()\n",
        "\n",
        "\n",
        "Nf = 64*4\n",
        "X = fft.fft(x,Nf)\n",
        "ax[1].plot(linspace(0,fs,len(X)),abs(X),'-o',ms=3.)\n",
        "ax[1].set_title(r'$N=%d$'%Nf,fontsize=18)\n",
        "ax[1].set_ylabel(r'$|X(k)|$',fontsize=18)\n",
        "ax[1].set_xlabel('Frequency (Hz)',fontsize=18)\n",
        "ax[1].set_xlim(xmax = fs/2)\n",
        "ax[1].grid()"
      ],
      "outputs": [],
      "execution_count": 7,
      "metadata": {
        "jupyter": {
          "outputs_hidden": false,
          "source_hidden": false
        },
        "execution": {
          "shell.execute_reply": "2021-02-12T21:53:10.288Z"
        }
      }
    },
    {
      "cell_type": "code",
      "source": [
        "t = arange(0,2,1/fs)\n",
        "x=cos(2*pi*f*t) + cos(2*pi*(f+deltaf)*t)\n",
        "\n",
        "Nf = 64*2\n",
        "fig,ax = subplots(2,1,sharex=True,sharey=True)\n",
        "fig.set_size_inches((6,6))\n",
        "\n",
        "X = fft.fft(x,Nf)\n",
        "ax[0].plot(linspace(0,fs,len(X)),abs(X),'-o',ms=3.)\n",
        "ax[0].set_title(r'$N=%d$'%Nf,fontsize=18)\n",
        "ax[0].set_ylabel(r'$|X(k)|$',fontsize=18)\n",
        "ax[0].grid()\n",
        "\n",
        "Nf = 64*8\n",
        "X = fft.fft(x,Nf)\n",
        "ax[1].plot(linspace(0,fs,len(X)),abs(X),'-o',ms=3.)\n",
        "ax[1].set_title(r'$N=%d$'%Nf,fontsize=18)\n",
        "ax[1].set_ylabel(r'$|X(k)|$',fontsize=18)\n",
        "ax[1].set_xlabel('Frequency (Hz)',fontsize=18)\n",
        "ax[1].set_xlim(xmax = fs/2)\n",
        "ax[1].grid()"
      ],
      "outputs": [],
      "execution_count": null,
      "metadata": {
        "jupyter": {
          "outputs_hidden": false,
          "source_hidden": false
        }
      }
    },
    {
      "cell_type": "code",
      "source": [
        "#t = arange(0,10,1/fs).reshape(10,-1)\n",
        "#x=cos(2*pi*f*t) + cos(2*pi*(f+deltaf)*t)"
      ],
      "outputs": [],
      "execution_count": null,
      "metadata": {
        "jupyter": {
          "outputs_hidden": false,
          "source_hidden": false
        }
      }
    },
    {
      "cell_type": "markdown",
      "source": [
        "$$ \\frac{\\sin \\left( N_s  \\frac{2\\pi}{N} k\\right)}{\\sin \\left( \\frac{2\\pi}{N} k \\right)}$$"
      ],
      "metadata": {}
    },
    {
      "cell_type": "markdown",
      "source": [
        "# Summary"
      ],
      "metadata": {}
    },
    {
      "cell_type": "markdown",
      "source": [
        "In this section, we considered the Discrete Fourier Transform (DFT) using a matrix/vector approach. We used this approach to  develop an intuitive visual vocabulary for the DFT with respect to high/low frequency  and real-valued signals. We recognized that zero-padding an input signal is the same as analyzing more discrete frequencies in the transform domain.\n",
        "\n",
        "As usual, the corresponding IPython notebook for this post  is available for download [here](https://github.com/unpingco/Python-for-Signal-Processing/blob/master/Fourier_Transform.ipynb). \n",
        "\n",
        "Comments and corrections welcome!"
      ],
      "metadata": {}
    },
    {
      "cell_type": "markdown",
      "source": [
        "References\n",
        "---------------\n",
        "\n",
        "* Oppenheim, A. V., and A. S. Willsky. \"Signals and Systems.\" Prentice-Hall, (1997)."
      ],
      "metadata": {}
    }
  ],
  "metadata": {
    "name": "More_Fourier_Transform",
    "language_info": {
      "mimetype": "text/x-python",
      "nbconvert_exporter": "python",
      "name": "python",
      "pygments_lexer": "ipython2",
      "version": "2.7.18",
      "file_extension": ".py",
      "codemirror_mode": {
        "version": 2,
        "name": "ipython"
      }
    },
    "nteract": {
      "version": "0.28.0"
    }
  },
  "nbformat": 4,
  "nbformat_minor": 0
}